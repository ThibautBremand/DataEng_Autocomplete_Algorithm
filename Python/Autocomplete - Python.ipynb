{
 "cells": [
  {
   "cell_type": "markdown",
   "metadata": {},
   "source": [
    "## Autocomplete program in Python"
   ]
  },
  {
   "cell_type": "markdown",
   "metadata": {},
   "source": [
    "#### 1/ Imports"
   ]
  },
  {
   "cell_type": "code",
   "execution_count": 1,
   "metadata": {},
   "outputs": [],
   "source": [
    "# Sorted dictionaries : each element will be sorted in the dictionary once added\n",
    "# The sortedcontainers module provides a SortedDict type that maintains the keys in sorted order and supports bisecting on those keys.\n",
    "from sortedcontainers import SortedDict\n",
    "import math\n",
    "import time"
   ]
  },
  {
   "cell_type": "markdown",
   "metadata": {},
   "source": [
    "#### 2/ Consts declaration"
   ]
  },
  {
   "cell_type": "code",
   "execution_count": 2,
   "metadata": {},
   "outputs": [],
   "source": [
    "# Symbol which indicates whether we found the end of a word or not, while traversing the tree\n",
    "CONST_endOfWord = \"$\""
   ]
  },
  {
   "cell_type": "markdown",
   "metadata": {},
   "source": [
    "#### 3/ Main"
   ]
  },
  {
   "cell_type": "markdown",
   "metadata": {},
   "source": [
    "Tree generation"
   ]
  },
  {
   "cell_type": "code",
   "execution_count": 3,
   "metadata": {},
   "outputs": [],
   "source": [
    "'''\n",
    "This function will add a word to the tree\n",
    "\n",
    "Params :\n",
    "trie : the tree\n",
    "word : the word to be added\n",
    "'''\n",
    "def addWordToTrie(trie, word):\n",
    "    # Loop through each character of the current word\n",
    "    for letter in word:\n",
    "        # Look for the node in the tree having the key\n",
    "        # If it exists, retrieve it as the current node\n",
    "        # If it doesn't, add a new node to the Tree with the current character as the key of the node\n",
    "        trie = trie.setdefault(letter, SortedDict({}))\n",
    "     # Once we looped through all characters of the word, we add the CONST_endOfWord flag into the Tree\n",
    "    trie[CONST_endOfWord] = CONST_endOfWord"
   ]
  },
  {
   "cell_type": "code",
   "execution_count": 4,
   "metadata": {},
   "outputs": [],
   "source": [
    "'''\n",
    "This function will generate a tree made of SortedDicts, containing the words\n",
    "\n",
    "Params : \n",
    "words : the array of words\n",
    "\n",
    "return : the generated tree (root node)\n",
    "'''\n",
    "\n",
    "def generateTrieFromWordsArray(words):\n",
    "    # Declare an empty dictionary\n",
    "    root = SortedDict({})\n",
    "    \n",
    "    # Loop through each given word\n",
    "    for word in words:\n",
    "        currentDict = root\n",
    "        # Add the word to the tree\n",
    "        addWordToTrie(currentDict, word)\n",
    "    return root"
   ]
  },
  {
   "cell_type": "markdown",
   "metadata": {},
   "source": [
    "Check if a word exists in the tree"
   ]
  },
  {
   "cell_type": "code",
   "execution_count": 5,
   "metadata": {},
   "outputs": [],
   "source": [
    "'''\n",
    "This function will check whether a word is present in the tree or not\n",
    "\n",
    "Params :\n",
    "trie : the tree to find the word in\n",
    "word : the word to be looked for in the tree\n",
    "\n",
    "return : true if the word exists in the tree, else false\n",
    "'''\n",
    "\n",
    "def isWordPresentInTrie(trie, word):\n",
    "    currentDict = trie\n",
    "    # Loop through each character of the word to find\n",
    "    for letter in word:\n",
    "        # Check if the character exists in this level of the tree\n",
    "        if letter in currentDict:\n",
    "            # Get the children of the current node\n",
    "            currentDict = currentDict[letter]\n",
    "        else: \n",
    "            # Letter not found in the tree : the word is not in the tree\n",
    "            return False\n",
    "    if CONST_endOfWord in currentDict:\n",
    "        # The word and its CONST_endOfWord symbol exist in the tree\n",
    "        return True\n",
    "    else: \n",
    "        # We didn't find a CONST_endOfWord symbol for the current word : word not found in the tree\n",
    "        return False "
   ]
  },
  {
   "cell_type": "markdown",
   "metadata": {},
   "source": [
    "Autocompletion"
   ]
  },
  {
   "cell_type": "code",
   "execution_count": 6,
   "metadata": {},
   "outputs": [],
   "source": [
    "'''\n",
    "This function will autocomplete recursively the words based on the 'currentWord' string\n",
    "\n",
    "Params:\n",
    "currentTrie : the tree to find the words in\n",
    "currentWord : the begining of the current found word\n",
    "'''\n",
    "\n",
    "def recursiveTreeCrawling(currentTrie, currentWord):\n",
    "    # Loop through each character of the current node\n",
    "    for key in currentTrie:\n",
    "        # Check if we completely found a word or not\n",
    "        if key == CONST_endOfWord:\n",
    "            print (currentWord)\n",
    "        else:\n",
    "            # Keep traversing the children of the node containing the character 'key'\n",
    "            recursiveTreeCrawling(currentTrie[key], currentWord + key)\n",
    "            \n",
    "'''\n",
    "Traverse the tree to find the autocompleted words for the \"word\" input\n",
    "The words will be displayed alphabetically ordered thanks to the use of \"SortedDict\" contained\n",
    "\n",
    "Params :\n",
    "trie : the tree\n",
    "word : the input\n",
    "'''\n",
    "def autocompletion(trie, word):\n",
    "    currentDict = trie\n",
    "    # Loop through each character of the word to find\n",
    "    for letter in word:\n",
    "        # Check if the character exists in this level of the tree\n",
    "        if letter in currentDict:\n",
    "            currentDict = currentDict[letter]\n",
    "        else: \n",
    "            return False\n",
    "        \n",
    "    recursiveTreeCrawling(currentDict, word)"
   ]
  },
  {
   "cell_type": "code",
   "execution_count": 7,
   "metadata": {},
   "outputs": [
    {
     "name": "stdout",
     "output_type": "stream",
     "text": [
      "Representation of the Trie : \n",
      "\n",
      "SortedDict({'h': SortedDict({'e': SortedDict({'l': SortedDict({'l': SortedDict({'o': SortedDict({'$': '$'})})}), 'y': SortedDict({'$': '$'})}), 'z': SortedDict({'$': '$'})}), 'w': SortedDict({'h': SortedDict({'a': SortedDict({'t': SortedDict({'$': '$'})}), 'e': SortedDict({'n': SortedDict({'$': '$'})}), 'y': SortedDict({'$': '$'})})})})\n",
      "\n",
      "Does the word 'hello' exist in the trie ? : True\n",
      "Does the word 'hellow' exist in the trie ? : False\n"
     ]
    }
   ],
   "source": [
    "# Build a list of words\n",
    "arrayOfWords = ['hz', 'hello', 'hey', 'what', 'when', 'why']\n",
    "\n",
    "# Load the words into a tree\n",
    "wordsTrie = generateTrieFromWordsArray(arrayOfWords)\n",
    "\n",
    "print (\"Representation of the Trie : \")\n",
    "print (\"\")\n",
    "print (wordsTrie)\n",
    "print (\"\")\n",
    "print (\"Does the word 'hello' exist in the trie ? : \" + str(isWordPresentInTrie(wordsTrie, 'hello')))\n",
    "print (\"Does the word 'hellow' exist in the trie ? : \" + str(isWordPresentInTrie(wordsTrie, 'hellow')))"
   ]
  },
  {
   "cell_type": "code",
   "execution_count": 8,
   "metadata": {},
   "outputs": [
    {
     "name": "stdout",
     "output_type": "stream",
     "text": [
      "hello\n",
      "hey\n",
      "hz\n"
     ]
    }
   ],
   "source": [
    "autocompletion(wordsTrie, 'h')"
   ]
  },
  {
   "cell_type": "code",
   "execution_count": 9,
   "metadata": {},
   "outputs": [],
   "source": [
    "addWordToTrie(wordsTrie, 'ha')"
   ]
  },
  {
   "cell_type": "code",
   "execution_count": 10,
   "metadata": {},
   "outputs": [
    {
     "name": "stdout",
     "output_type": "stream",
     "text": [
      "ha\n",
      "hello\n",
      "hey\n",
      "hz\n"
     ]
    }
   ],
   "source": [
    "autocompletion(wordsTrie, 'h')"
   ]
  },
  {
   "cell_type": "code",
   "execution_count": 11,
   "metadata": {},
   "outputs": [
    {
     "name": "stdout",
     "output_type": "stream",
     "text": [
      "what\n",
      "when\n",
      "why\n"
     ]
    }
   ],
   "source": [
    "autocompletion(wordsTrie, 'wh')"
   ]
  },
  {
   "cell_type": "code",
   "execution_count": 12,
   "metadata": {},
   "outputs": [
    {
     "data": {
      "text/plain": [
       "False"
      ]
     },
     "execution_count": 12,
     "metadata": {},
     "output_type": "execute_result"
    }
   ],
   "source": [
    "autocompletion(wordsTrie, 'wewontfindthiswordinthetree')"
   ]
  },
  {
   "cell_type": "markdown",
   "metadata": {},
   "source": [
    "#### For educational purposes only - Same code with a Binary Search"
   ]
  },
  {
   "cell_type": "code",
   "execution_count": 13,
   "metadata": {},
   "outputs": [],
   "source": [
    "def binarySearch(array, number):\n",
    "    # Find the first pivot\n",
    "    middleIndexOfArray = int(math.floor(len(array) / 2))\n",
    "    if middleIndexOfArray == 0:\n",
    "        if list(array.keys())[middleIndexOfArray] == number:\n",
    "            return (list(array.values())[middleIndexOfArray])\n",
    "        else:\n",
    "            return None\n",
    "\n",
    "    # First case : the pivot value is the value to find\n",
    "    if list(array.keys())[middleIndexOfArray] == number:\n",
    "        return (list(array.values())[middleIndexOfArray])\n",
    "    \n",
    "    # Other cases : the pivot value either greater or lower than the value to find - recursive call with a smaller set based on the pivot\n",
    "    elif list(array.keys())[middleIndexOfArray] > number:\n",
    "        return binarySearch(SortedDict({k: array[k] for k in list(array)[:middleIndexOfArray]}), number)\n",
    "    elif list(array.keys())[middleIndexOfArray] < number:\n",
    "        return binarySearch(SortedDict({k: array[k] for k in list(array)[middleIndexOfArray:]}), number)\n",
    "    else:\n",
    "        return None"
   ]
  },
  {
   "cell_type": "code",
   "execution_count": 14,
   "metadata": {},
   "outputs": [],
   "source": [
    "def isWordPresentInTrie_BinarySearch(trie, word):\n",
    "    currentDict = trie\n",
    "    # Loop through each character of the word to find\n",
    "    for letter in word:\n",
    "        # Check if the character exists in this level of the tree\n",
    "        currentDict = binarySearch(currentDict, letter)\n",
    "        if (currentDict is None):\n",
    "            # Character not found\n",
    "            return False\n",
    "\n",
    "    # Check if we find a CONST_endOfWord character once we looped through each letter of the word\n",
    "    if binarySearch(currentDict, CONST_endOfWord) is not None:\n",
    "        # CONST_endOfWord found : the entered word exists in the tree\n",
    "        return True\n",
    "    else:\n",
    "        # The word doesn't exist in the tree\n",
    "        return False"
   ]
  },
  {
   "cell_type": "code",
   "execution_count": 15,
   "metadata": {},
   "outputs": [],
   "source": [
    "def autocompletion_BinarySearch(trie, word):\n",
    "    currentDict = trie\n",
    "    # Loop through each character of the word to find\n",
    "    for letter in word:\n",
    "        currentDict = binarySearch(currentDict, letter)\n",
    "        if (currentDict is None):\n",
    "            # Character not found\n",
    "            return False\n",
    "        \n",
    "    recursiveTreeCrawling(currentDict, word)"
   ]
  },
  {
   "cell_type": "code",
   "execution_count": 16,
   "metadata": {},
   "outputs": [
    {
     "name": "stdout",
     "output_type": "stream",
     "text": [
      "Does the word 'hello' exist in the trie ? : True\n",
      "Does the word 'hellow' exist in the trie ? : False\n"
     ]
    }
   ],
   "source": [
    "print (\"Does the word 'hello' exist in the trie ? : \" + str(isWordPresentInTrie_BinarySearch(wordsTrie, 'hello')))\n",
    "print (\"Does the word 'hellow' exist in the trie ? : \" + str(isWordPresentInTrie_BinarySearch(wordsTrie, 'hellow')))"
   ]
  },
  {
   "cell_type": "code",
   "execution_count": 17,
   "metadata": {},
   "outputs": [
    {
     "name": "stdout",
     "output_type": "stream",
     "text": [
      "what\n",
      "when\n",
      "why\n"
     ]
    }
   ],
   "source": [
    "autocompletion_BinarySearch(wordsTrie, 'w')"
   ]
  },
  {
   "cell_type": "code",
   "execution_count": 18,
   "metadata": {},
   "outputs": [
    {
     "data": {
      "text/plain": [
       "False"
      ]
     },
     "execution_count": 18,
     "metadata": {},
     "output_type": "execute_result"
    }
   ],
   "source": [
    "autocompletion_BinarySearch(wordsTrie, 'wewontfindthiswordinthetree')"
   ]
  }
 ],
 "metadata": {
  "kernelspec": {
   "display_name": "Python 3",
   "language": "python",
   "name": "python3"
  },
  "language_info": {
   "codemirror_mode": {
    "name": "ipython",
    "version": 3
   },
   "file_extension": ".py",
   "mimetype": "text/x-python",
   "name": "python",
   "nbconvert_exporter": "python",
   "pygments_lexer": "ipython3",
   "version": "3.6.8"
  }
 },
 "nbformat": 4,
 "nbformat_minor": 2
}
